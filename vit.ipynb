{
 "cells": [
  {
   "cell_type": "code",
   "execution_count": null,
   "metadata": {},
   "outputs": [],
   "source": [
    "import torch\n",
    "from torch import nn, optim\n",
    "from torch.utils.data import DataLoader\n",
    "from torchvision import transforms\n",
    "from torchvision import datasets\n",
    "from tqdm import tqdm\n",
    "\n",
    "from dataset import ToRGB, PatchCollate\n",
    "from model import ViT"
   ]
  },
  {
   "cell_type": "code",
   "execution_count": null,
   "metadata": {},
   "outputs": [],
   "source": [
    "TRAIN_SIZE = 0.8\n",
    "TEST_SIZE = 1 - TRAIN_SIZE\n",
    "PATCH_SIZE = 16\n",
    "BATCH_SIZE = 32\n",
    "IMG_SIZE = 256\n",
    "\n",
    "D_MODEL = 768\n",
    "NUM_HEADS = 8\n",
    "NUM_LAYERS = 6\n",
    "DROPOUT_P = 0.1\n",
    "IN_CHANNELS = 3\n",
    "PATCH_SIZE = 16\n",
    "NUM_CLASSES = 257\n",
    "EPOCHS = 10\n",
    "LR = 1e-4\n",
    "\n",
    "DEV = torch.device(\"mps\")"
   ]
  },
  {
   "cell_type": "code",
   "execution_count": null,
   "metadata": {},
   "outputs": [],
   "source": [
    "T = transforms.Compose([\n",
    "    transforms.Resize((IMG_SIZE, IMG_SIZE)),\n",
    "    transforms.ToTensor(),\n",
    "    ToRGB()\n",
    "])\n",
    "\n",
    "dataset = datasets.Caltech256(\"./dataset\", download=True, transform=T)\n",
    "train_dataset, test_dataset = torch.utils.data.random_split(dataset, [TRAIN_SIZE, TEST_SIZE])\n",
    "class_to_idx = {c: i for i, c in enumerate(dataset.categories)}\n",
    "idx_to_class = {value: key for key, value in class_to_idx.items()}\n",
    "\n",
    "patch_collate_fn = PatchCollate(PATCH_SIZE, PATCH_SIZE)\n",
    "train_loader = DataLoader(train_dataset, BATCH_SIZE, shuffle=True, collate_fn=patch_collate_fn)\n",
    "test_loader = DataLoader(test_dataset, BATCH_SIZE * 2, collate_fn=patch_collate_fn)"
   ]
  },
  {
   "cell_type": "code",
   "execution_count": null,
   "metadata": {},
   "outputs": [],
   "source": [
    "model = ViT(\n",
    "    in_channels=IN_CHANNELS,\n",
    "    patch_size=PATCH_SIZE,\n",
    "    img_size=IMG_SIZE,\n",
    "    num_classes=NUM_CLASSES,\n",
    "    d_model=D_MODEL,\n",
    "    num_heads=NUM_HEADS,\n",
    "    n_layers=NUM_LAYERS\n",
    ").to(DEV)\n",
    "opt = optim.Adam(model.parameters(), lr=LR)\n",
    "crit = nn.CrossEntropyLoss()"
   ]
  },
  {
   "cell_type": "code",
   "execution_count": null,
   "metadata": {},
   "outputs": [],
   "source": [
    "for e in range(1, EPOCHS + 1):\n",
    "    model = model.train()\n",
    "    loop = tqdm(enumerate(train_loader), total=len(train_loader), leave=True, position=0)\n",
    "    loop.set_description(f\"Train Epoch : [{e}/{EPOCHS}]\")\n",
    "    total_loss = 0\n",
    "    for i, (imgs, labels) in loop:\n",
    "        imgs, labels = imgs.to(DEV), labels.to(DEV)\n",
    "        opt.zero_grad()\n",
    "        yhat = model(imgs)\n",
    "        loss = crit(yhat, labels)\n",
    "        loss.backward()\n",
    "        opt.step()\n",
    "\n",
    "        total_loss += loss.item()\n",
    "        loop.set_postfix(loss = total_loss / (i + 1))\n",
    "\n",
    "    model = model.eval()\n",
    "    test_loop = tqdm(test_loader, total=len(test_loader), position=0, leave=True)\n",
    "    test_loop.set_description(f\"Test Epoch : [{e}/{EPOCHS}]\")\n",
    "    total_correct = 0\n",
    "    for imgs, labels in test_loop:\n",
    "        imgs, labels = imgs.to(DEV), labels.to(DEV)\n",
    "        with torch.no_grad():\n",
    "            yhat = model(imgs).argmax(dim = -1)\n",
    "            total_correct += (yhat == labels).sum().item()\n",
    "\n",
    "    print(f\"Test accuracy : {total_correct / len(test_dataset)}\")\n",
    "    torch.save(model.state_dict(), \"vit.pth\")"
   ]
  }
 ],
 "metadata": {
  "kernelspec": {
   "display_name": "ml",
   "language": "python",
   "name": "python3"
  },
  "language_info": {
   "codemirror_mode": {
    "name": "ipython",
    "version": 3
   },
   "file_extension": ".py",
   "mimetype": "text/x-python",
   "name": "python",
   "nbconvert_exporter": "python",
   "pygments_lexer": "ipython3",
   "version": "3.9.13"
  },
  "orig_nbformat": 4
 },
 "nbformat": 4,
 "nbformat_minor": 2
}
